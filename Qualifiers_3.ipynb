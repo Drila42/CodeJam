{
  "nbformat": 4,
  "nbformat_minor": 0,
  "metadata": {
    "colab": {
      "name": "Qualifiers_3",
      "provenance": [],
      "authorship_tag": "ABX9TyOCIUlwlnv8pA6mT6KRFWiW",
      "include_colab_link": true
    },
    "kernelspec": {
      "name": "python3",
      "display_name": "Python 3"
    }
  },
  "cells": [
    {
      "cell_type": "markdown",
      "metadata": {
        "id": "view-in-github",
        "colab_type": "text"
      },
      "source": [
        "<a href=\"https://colab.research.google.com/github/Drila42/CodeJam/blob/master/Qualifiers_3.ipynb\" target=\"_parent\"><img src=\"https://colab.research.google.com/assets/colab-badge.svg\" alt=\"Open In Colab\"/></a>"
      ]
    },
    {
      "cell_type": "code",
      "metadata": {
        "id": "jANOU8R8tIuA",
        "colab_type": "code",
        "colab": {}
      },
      "source": [
        "t=int(input())\n",
        "z=1\n",
        "while(t>0):\n",
        "    n=int(input())\n",
        "    a=[]\n",
        "    for i in range (n):\n",
        "        b1,b2=[int(x) for x in input().split()]\n",
        "        a.append([b1,b2,i])\n",
        "    a.sort()\n",
        "        \n",
        "    c=[0,0]\n",
        "    j=[0,0]\n",
        "    out=['' for i in range(n)]\n",
        "    var=0\n",
        "    \n",
        "    for i in range (len(a)):\n",
        "        \n",
        "        s=a[i][2]\n",
        "        #if a[i+2][0]<c[1] and a[i+2][0]<j[1]:\n",
        "            #print(\"IMPOSSIBLE\")\n",
        "        \n",
        "        if a[i][0]>=c[1]:\n",
        "            out[s]=\"C\"\n",
        "            c=a[i]\n",
        "            \n",
        "        elif a[i][0]>=j[1]: \n",
        "            out[s]=\"J\"\n",
        "            j=a[i]\n",
        "            \n",
        "        else:\n",
        "            var=1\n",
        "            break\n",
        "\n",
        "            \n",
        "    if var==1:\n",
        "        print(\"Case #\"+str(z)+\": \"+\"IMPOSSIBLE\")\n",
        "    else:\n",
        "        y=\"\"\n",
        "        for x in out:\n",
        "            y+=x\n",
        "        print(\"Case #\"+str(z)+\": \"+y)    \n",
        "            \n",
        "    z+=1    \n",
        "    t-=1"
      ],
      "execution_count": 0,
      "outputs": []
    }
  ]
}