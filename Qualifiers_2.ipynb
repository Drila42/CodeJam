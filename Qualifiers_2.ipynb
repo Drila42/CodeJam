{
  "nbformat": 4,
  "nbformat_minor": 0,
  "metadata": {
    "colab": {
      "name": "Qualifiers_2",
      "provenance": [],
      "authorship_tag": "ABX9TyPnuy5xGGJF8P/Fu6ZwtiIN",
      "include_colab_link": true
    },
    "kernelspec": {
      "name": "python3",
      "display_name": "Python 3"
    }
  },
  "cells": [
    {
      "cell_type": "markdown",
      "metadata": {
        "id": "view-in-github",
        "colab_type": "text"
      },
      "source": [
        "<a href=\"https://colab.research.google.com/github/Drila42/CodeJam/blob/master/Qualifiers_2.ipynb\" target=\"_parent\"><img src=\"https://colab.research.google.com/assets/colab-badge.svg\" alt=\"Open In Colab\"/></a>"
      ]
    },
    {
      "cell_type": "code",
      "metadata": {
        "id": "I9fegbgCtum4",
        "colab_type": "code",
        "colab": {}
      },
      "source": [
        "t=int(input())\n",
        "v=1\n",
        "while(t>0):\n",
        "  n=input()\n",
        "  op=0\n",
        "  \n",
        "  net=0\n",
        "  \n",
        "  out=\"\"\n",
        "  for i in range (len(n)):\n",
        "      if i==0:\n",
        "          out+='('*int(n[i])+n[i]\n",
        "          op+=int(n[i])\n",
        "          \n",
        "          \n",
        "      elif n[i]==n[i-1]:\n",
        "          out+=n[i]\n",
        "          \n",
        "      elif n[i]<n[i-1]:\n",
        "          net=op-int(n[i])\n",
        "          op-=net\n",
        "          out+=')'*net+n[i]\n",
        "          \n",
        "      elif n[i]>n[i-1]:\n",
        "          net=int(n[i])-op\n",
        "          out+='('*net+n[i]\n",
        "          op+=net\n",
        "          \n",
        "\n",
        "  out+=')'*op\n",
        "          \n",
        "  print(\"Case #\"+str(v)+\": \"+out)\n",
        "  v+=1\n",
        "  t-=1"
      ],
      "execution_count": 0,
      "outputs": []
    }
  ]
}