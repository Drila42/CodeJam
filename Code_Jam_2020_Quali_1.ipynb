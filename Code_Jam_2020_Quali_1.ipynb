{
  "nbformat": 4,
  "nbformat_minor": 0,
  "metadata": {
    "colab": {
      "name": "Code Jam_2020_Quali_1",
      "provenance": [],
      "authorship_tag": "ABX9TyMotDv3KUpUFlsH8JI1/kZj",
      "include_colab_link": true
    },
    "kernelspec": {
      "name": "python3",
      "display_name": "Python 3"
    }
  },
  "cells": [
    {
      "cell_type": "markdown",
      "metadata": {
        "id": "view-in-github",
        "colab_type": "text"
      },
      "source": [
        "<a href=\"https://colab.research.google.com/github/Drila42/CodeJam/blob/master/Code_Jam_2020_Quali_1.ipynb\" target=\"_parent\"><img src=\"https://colab.research.google.com/assets/colab-badge.svg\" alt=\"Open In Colab\"/></a>"
      ]
    },
    {
      "cell_type": "code",
      "metadata": {
        "id": "ubnqH1k_qhYU",
        "colab_type": "code",
        "colab": {}
      },
      "source": [
        "t=int(input())\n",
        "v=1\n",
        "while(t>0):\n",
        "  x=int(input())\n",
        "  a=[[] for i in range(x)] \n",
        "  trace=0\n",
        "\n",
        "  for i in range (x):\n",
        "    a[i]=[int(x) for x in input().split()]\n",
        "\n",
        "  c=0\n",
        "  d=0\n",
        "  b=[]\n",
        "  for i in range(x):\n",
        "    trace+=a[i][i]\n",
        "\n",
        "    if len(a[i])!=len(set(a[i])):\n",
        "      c+=1\n",
        "    z=[]\n",
        "    for j in range(x):\n",
        "      \n",
        "      z.append(a[j][i])\n",
        "    b.append(z)\n",
        "    \n",
        "    if len(b[i])!=len(set(b[i])):\n",
        "      d+=1\n",
        "      \n",
        "  \n",
        "  print(\"Case #\"+str(v)+\": \"+str(trace)+\" \"+str(c)+\" \"+str(d))\n",
        "  v+=1\n",
        "  t-=1"
      ],
      "execution_count": 0,
      "outputs": []
    }
  ]
}